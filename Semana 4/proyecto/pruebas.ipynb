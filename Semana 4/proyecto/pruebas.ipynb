{
 "cells": [
  {
   "cell_type": "code",
   "execution_count": 21,
   "metadata": {},
   "outputs": [
    {
     "name": "stderr",
     "output_type": "stream",
     "text": [
      "c:\\Users\\jacosta\\AppData\\Local\\anaconda3\\Lib\\site-packages\\sklearn\\base.py:376: InconsistentVersionWarning: Trying to unpickle estimator DecisionTreeRegressor from version 1.4.0 when using version 1.4.1.post1. This might lead to breaking code or invalid results. Use at your own risk. For more info please refer to:\n",
      "https://scikit-learn.org/stable/model_persistence.html#security-maintainability-limitations\n",
      "  warnings.warn(\n",
      "c:\\Users\\jacosta\\AppData\\Local\\anaconda3\\Lib\\site-packages\\sklearn\\base.py:376: InconsistentVersionWarning: Trying to unpickle estimator RandomForestRegressor from version 1.4.0 when using version 1.4.1.post1. This might lead to breaking code or invalid results. Use at your own risk. For more info please refer to:\n",
      "https://scikit-learn.org/stable/model_persistence.html#security-maintainability-limitations\n",
      "  warnings.warn(\n",
      "c:\\Users\\jacosta\\AppData\\Local\\anaconda3\\Lib\\site-packages\\sklearn\\base.py:376: InconsistentVersionWarning: Trying to unpickle estimator LinearRegression from version 1.4.0 when using version 1.4.1.post1. This might lead to breaking code or invalid results. Use at your own risk. For more info please refer to:\n",
      "https://scikit-learn.org/stable/model_persistence.html#security-maintainability-limitations\n",
      "  warnings.warn(\n"
     ]
    },
    {
     "name": "stdout",
     "output_type": "stream",
     "text": [
      "--f=c:\\Users\\jacosta\\AppData\\Roaming\\jupyter\\runtime\\kernel-v2-17368759y6UoowREj.json\n",
      "Price of Car:  ('Error ', 500)\n"
     ]
    },
    {
     "name": "stderr",
     "output_type": "stream",
     "text": [
      "c:\\Users\\jacosta\\AppData\\Local\\anaconda3\\Lib\\site-packages\\sklearn\\base.py:376: InconsistentVersionWarning: Trying to unpickle estimator StackingRegressor from version 1.4.0 when using version 1.4.1.post1. This might lead to breaking code or invalid results. Use at your own risk. For more info please refer to:\n",
      "https://scikit-learn.org/stable/model_persistence.html#security-maintainability-limitations\n",
      "  warnings.warn(\n"
     ]
    },
    {
     "data": {
      "text/plain": [
       "(45525.51024814493, 200)"
      ]
     },
     "execution_count": 21,
     "metadata": {},
     "output_type": "execute_result"
    }
   ],
   "source": [
    "import joblib\n",
    "import os\n",
    "import sys\n",
    "import pandas as pd\n",
    "\n",
    "clf = joblib.load('stacking_model.pkl')\n",
    "\n",
    "def predict(data):\n",
    "    try:\n",
    "        # cargamos\n",
    "        input_data = pd.DataFrame([data])\n",
    "\n",
    "        # predecimos\n",
    "        prediction = clf.predict(input_data)\n",
    "\n",
    "        # resultado\n",
    "        return prediction[0],200\n",
    "    except Exception as e:\n",
    "        return \"Error \",500\n",
    "\n",
    "if __name__ == \"__main__\":\n",
    "    \n",
    "    if len(sys.argv) == 1:\n",
    "        print('Please add data')\n",
    "        \n",
    "    else:\n",
    "\n",
    "        data = sys.argv[1]\n",
    "\n",
    "        p1 = predict(data)\n",
    "        \n",
    "        print(data)\n",
    "        print('Price of Car: ', p1)\n",
    "# data_prediccion = {\n",
    "#             'Year': 2017,\n",
    "#             'Mileage': 5362,\n",
    "#             'State': \"FL\",\n",
    "#             'Make': \"Jeep\",\n",
    "#             'Model': \"Wrangler\"\n",
    "#         }\n",
    "# data_prediccion = {\n",
    "#             'Year': 2015,\n",
    "#             'Mileage': 20578,\n",
    "#             'State': 35,\n",
    "#             'Make': 6,\n",
    "#             'Model': 448\n",
    "#         }\n",
    "# predict(data_prediccion)"
   ]
  },
  {
   "cell_type": "code",
   "execution_count": 19,
   "metadata": {},
   "outputs": [
    {
     "name": "stdout",
     "output_type": "stream",
     "text": [
      " * Serving Flask app '__main__'\n",
      " * Debug mode: on\n"
     ]
    },
    {
     "name": "stderr",
     "output_type": "stream",
     "text": [
      "WARNING: This is a development server. Do not use it in a production deployment. Use a production WSGI server instead.\n",
      " * Running on all addresses (0.0.0.0)\n",
      " * Running on http://127.0.0.1:5000\n",
      " * Running on http://192.168.0.181:5000\n",
      "Press CTRL+C to quit\n"
     ]
    },
    {
     "name": "stderr",
     "output_type": "stream",
     "text": [
      "127.0.0.1 - - [29/Apr/2024 12:00:18] \"GET / HTTP/1.1\" 200 -\n",
      "127.0.0.1 - - [29/Apr/2024 12:00:18] \"GET /swaggerui/droid-sans.css HTTP/1.1\" 304 -\n",
      "127.0.0.1 - - [29/Apr/2024 12:00:18] \"GET /swaggerui/swagger-ui.css HTTP/1.1\" 304 -\n",
      "127.0.0.1 - - [29/Apr/2024 12:00:18] \"GET /swaggerui/swagger-ui-bundle.js HTTP/1.1\" 304 -\n",
      "127.0.0.1 - - [29/Apr/2024 12:00:18] \"GET /swaggerui/swagger-ui-standalone-preset.js HTTP/1.1\" 304 -\n",
      "127.0.0.1 - - [29/Apr/2024 12:00:19] \"GET /swagger.json HTTP/1.1\" 200 -\n",
      "127.0.0.1 - - [29/Apr/2024 12:00:37] \"GET /predict/cost-prediction?Year=2015&Mileage=20578&State=35&Make=6&Model=448 HTTP/1.1\" 200 -\n"
     ]
    },
    {
     "name": "stdout",
     "output_type": "stream",
     "text": [
      "2015\n",
      "20578\n",
      "35\n",
      "6\n",
      "448\n",
      "(45525.51024814493, 200)\n"
     ]
    }
   ],
   "source": [
    "from flask import Flask\n",
    "from flask_restx import Api, Resource, fields, reqparse\n",
    "from flask_cors import CORS\n",
    "import requests\n",
    "app = Flask(__name__)\n",
    "CORS(app)  \n",
    "api = Api(\n",
    "    app, \n",
    "    version='1.0', \n",
    "    title='Predictor de Precios de Autos',\n",
    "    description='API para predecir precios de autos')\n",
    "\n",
    "ns = api.namespace('predict', \n",
    "     description='Predictor de Precio')\n",
    "\n",
    "parser = reqparse.RequestParser()\n",
    "parser.add_argument(\n",
    "    'Year', \n",
    "    type=int, \n",
    "    required=True, \n",
    "    help='Año del automóvil', \n",
    "    location='args')\n",
    "parser.add_argument(\n",
    "    'Mileage', \n",
    "    type=int, \n",
    "    required=True, \n",
    "    help='Millaje del automóvil', \n",
    "    location='args')\n",
    "parser.add_argument(\n",
    "    'State', \n",
    "    type=int, \n",
    "    required=True, \n",
    "    help='Estado del automóvil', \n",
    "    location='args')\n",
    "parser.add_argument(\n",
    "    'Make', \n",
    "    type=int, \n",
    "    required=True, \n",
    "    help='Marca del automóvil', \n",
    "    location='args')\n",
    "parser.add_argument(\n",
    "    'Model', \n",
    "    type=int, \n",
    "    required=True, \n",
    "    help='Modelo del automóvil', \n",
    "    location='args')\n",
    "\n",
    "resource_fields = api.model('Resource', {\n",
    "    'result': fields.Float,\n",
    "})\n",
    "\n",
    "@ns.route('/cost-prediction')\n",
    "class CarPricePrediction(Resource):\n",
    "\n",
    "    @api.doc(parser=parser)\n",
    "    @api.marshal_with(resource_fields)\n",
    "    def get(self):\n",
    "        args = parser.parse_args()\n",
    "        \n",
    "        year = args['Year']\n",
    "        mileage = args['Mileage']\n",
    "        state = args['State']\n",
    "        make = args['Make']\n",
    "        model = args['Model']\n",
    "        print(year)\n",
    "        print(mileage)\n",
    "        print(state)\n",
    "        print(make)\n",
    "        print(model)\n",
    "\n",
    "        # prediction_service_url = \"http://localhost:5000/predict\"\n",
    "        data = {\n",
    "            'Year': year,\n",
    "            'Mileage': mileage,\n",
    "            'State': state,\n",
    "            'Make': make,\n",
    "            'Model': model\n",
    "        }\n",
    "        response = predict(data)\n",
    "        print (response)\n",
    "        \n",
    "        if response[1] == 200:\n",
    "            result = response[0]\n",
    "            return {'result': result}, 200\n",
    "        else:\n",
    "            return {'error': 'No se pudo realizar la predicción'}, 500\n",
    "    \n",
    "if __name__ == '__main__':\n",
    "    app.run(debug=True, use_reloader=False, host='0.0.0.0', port=5000)\n"
   ]
  }
 ],
 "metadata": {
  "kernelspec": {
   "display_name": "base",
   "language": "python",
   "name": "python3"
  },
  "language_info": {
   "codemirror_mode": {
    "name": "ipython",
    "version": 3
   },
   "file_extension": ".py",
   "mimetype": "text/x-python",
   "name": "python",
   "nbconvert_exporter": "python",
   "pygments_lexer": "ipython3",
   "version": "3.11.5"
  }
 },
 "nbformat": 4,
 "nbformat_minor": 2
}

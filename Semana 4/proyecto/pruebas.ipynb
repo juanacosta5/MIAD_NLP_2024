{
 "cells": [
  {
   "cell_type": "code",
   "execution_count": 9,
   "metadata": {},
   "outputs": [
    {
     "name": "stdout",
     "output_type": "stream",
     "text": [
      " * Serving Flask app '__main__'\n",
      " * Debug mode: on\n"
     ]
    },
    {
     "name": "stderr",
     "output_type": "stream",
     "text": [
      "WARNING: This is a development server. Do not use it in a production deployment. Use a production WSGI server instead.\n",
      " * Running on http://127.0.0.1:5000\n",
      "Press CTRL+C to quit\n",
      " * Restarting with watchdog (windowsapi)\n"
     ]
    },
    {
     "ename": "SystemExit",
     "evalue": "1",
     "output_type": "error",
     "traceback": [
      "An exception has occurred, use %tb to see the full traceback.\n",
      "\u001b[1;31mSystemExit\u001b[0m\u001b[1;31m:\u001b[0m 1\n"
     ]
    },
    {
     "name": "stderr",
     "output_type": "stream",
     "text": [
      "c:\\Users\\jacosta\\AppData\\Local\\anaconda3\\Lib\\site-packages\\IPython\\core\\interactiveshell.py:3534: UserWarning: To exit: use 'exit', 'quit', or Ctrl-D.\n",
      "  warn(\"To exit: use 'exit', 'quit', or Ctrl-D.\", stacklevel=1)\n"
     ]
    }
   ],
   "source": [
    "from flask import Flask, request, jsonify\n",
    "import pandas as pd\n",
    "import joblib\n",
    "import os\n",
    "\n",
    "app = Flask(__name__)\n",
    "\n",
    "# Cargar el modelo al inicio de la aplicación\n",
    "clf = joblib.load(r'C:\\Users\\jacosta\\Documents\\GitHub\\Mis Repos\\MIAD_NLP_2024\\Semana 4\\proyecto\\stacking_model.pkl')\n",
    "\n",
    "@app.route('/predict', methods=['POST'])\n",
    "def predict():\n",
    "    try:\n",
    "        # Obtener datos de la solicitud como JSON\n",
    "        data = request.get_json()\n",
    "\n",
    "        # Convertir a DataFrame\n",
    "        input_data = pd.DataFrame([data])\n",
    "\n",
    "        # Realizar predicción\n",
    "        prediction = clf.predict(input_data)\n",
    "\n",
    "        # Devolver resultado como JSON\n",
    "        return jsonify({'prediction': prediction.tolist()}), 200\n",
    "    except Exception as e:\n",
    "        return jsonify({'error': str(e)}), 400\n",
    "\n",
    "if __name__ == '__main__':\n",
    "    app.run(debug=True)"
   ]
  },
  {
   "cell_type": "code",
   "execution_count": 9,
   "metadata": {},
   "outputs": [
    {
     "name": "stdout",
     "output_type": "stream",
     "text": [
      " * Serving Flask app '__main__'\n",
      " * Debug mode: on\n"
     ]
    },
    {
     "name": "stderr",
     "output_type": "stream",
     "text": [
      "WARNING: This is a development server. Do not use it in a production deployment. Use a production WSGI server instead.\n",
      " * Running on all addresses (0.0.0.0)\n",
      " * Running on http://127.0.0.1:5000\n",
      " * Running on http://192.168.0.181:5000\n",
      "Press CTRL+C to quit\n",
      "127.0.0.1 - - [29/Apr/2024 03:56:58] \"GET / HTTP/1.1\" 200 -\n",
      "127.0.0.1 - - [29/Apr/2024 03:56:58] \"GET /swaggerui/droid-sans.css HTTP/1.1\" 304 -\n",
      "127.0.0.1 - - [29/Apr/2024 03:56:58] \"GET /swaggerui/swagger-ui.css HTTP/1.1\" 304 -\n",
      "127.0.0.1 - - [29/Apr/2024 03:56:58] \"GET /swaggerui/swagger-ui-bundle.js HTTP/1.1\" 304 -\n",
      "127.0.0.1 - - [29/Apr/2024 03:56:58] \"GET /swaggerui/swagger-ui-standalone-preset.js HTTP/1.1\" 304 -\n",
      "127.0.0.1 - - [29/Apr/2024 03:56:58] \"GET /swagger.json HTTP/1.1\" 200 -\n",
      "127.0.0.1 - - [29/Apr/2024 03:57:17] \"POST /predict HTTP/1.1\" 404 -\n",
      "127.0.0.1 - - [29/Apr/2024 03:57:17] \"GET /predict/?Year=2014&Mileage=31009&State=20&Make=27&Model=305 HTTP/1.1\" 500 -\n",
      "127.0.0.1 - - [29/Apr/2024 03:57:39] \"POST /predict HTTP/1.1\" 404 -\n",
      "127.0.0.1 - - [29/Apr/2024 03:57:39] \"GET /predict/?Year=2014&Mileage=31009&State=20&Make=27&Model=305 HTTP/1.1\" 500 -\n",
      "127.0.0.1 - - [29/Apr/2024 03:58:17] \"POST /predict HTTP/1.1\" 404 -\n",
      "127.0.0.1 - - [29/Apr/2024 03:58:17] \"GET /predict/?Year=2014&Mileage=31909&State=20&Make=27&Model=305 HTTP/1.1\" 500 -\n"
     ]
    }
   ],
   "source": [
    "from flask import Flask\n",
    "from flask_restx import Api, Resource, fields, reqparse\n",
    "from flask_cors import CORS\n",
    "import requests\n",
    "\n",
    "app = Flask(__name__)\n",
    "CORS(app)  # Habilitar CORS para todas las rutas y orígenes\n",
    "\n",
    "api = Api(\n",
    "    app, \n",
    "    version='1.0', \n",
    "    title='Predictor de Precios de Autos',\n",
    "    description='API para predecir precios de autos')\n",
    "\n",
    "ns = api.namespace('predict', \n",
    "     description='Predictor de Precio')\n",
    "\n",
    "parser = reqparse.RequestParser()\n",
    "parser.add_argument(\n",
    "    'Year', \n",
    "    type=int, \n",
    "    required=True, \n",
    "    help='Año del automóvil', \n",
    "    location='args')\n",
    "parser.add_argument(\n",
    "    'Mileage', \n",
    "    type=int, \n",
    "    required=True, \n",
    "    help='Millaje del automóvil', \n",
    "    location='args')\n",
    "parser.add_argument(\n",
    "    'State', \n",
    "    type=int, \n",
    "    required=True, \n",
    "    help='Estado del automóvil', \n",
    "    location='args')\n",
    "parser.add_argument(\n",
    "    'Make', \n",
    "    type=int, \n",
    "    required=True, \n",
    "    help='Marca del automóvil', \n",
    "    location='args')\n",
    "parser.add_argument(\n",
    "    'Model', \n",
    "    type=int, \n",
    "    required=True, \n",
    "    help='Modelo del automóvil', \n",
    "    location='args')\n",
    "\n",
    "resource_fields = api.model('Resource', {\n",
    "    'result': fields.Float,\n",
    "})\n",
    "\n",
    "@ns.route('/')\n",
    "class CarPricePrediction(Resource):\n",
    "\n",
    "    @api.doc(parser=parser)\n",
    "    @api.marshal_with(resource_fields)\n",
    "    def get(self):\n",
    "        args = parser.parse_args()\n",
    "        \n",
    "        year = args['Year']\n",
    "        mileage = args['Mileage']\n",
    "        state = args['State']\n",
    "        make = args['Make']\n",
    "        model = args['Model']\n",
    "        \n",
    "        # Hacer una solicitud POST al servicio de predicción\n",
    "        prediction_service_url = \"http://localhost:5000/predict\"\n",
    "        data = {\n",
    "            'Year': year,\n",
    "            'Mileage': mileage,\n",
    "            'State': state,\n",
    "            'Make': make,\n",
    "            'Model': model\n",
    "        }\n",
    "        response = requests.post(prediction_service_url, json=data)\n",
    "        \n",
    "        if response.status_code == 200:\n",
    "            result = response.json()['prediction']\n",
    "            return {'result': result}, 200\n",
    "        else:\n",
    "            return {'error': 'No se pudo realizar la predicción'}, 500\n",
    "    \n",
    "if __name__ == '__main__':\n",
    "    app.run(debug=True, use_reloader=False, host='0.0.0.0', port=5000)\n",
    "\n",
    "\n"
   ]
  }
 ],
 "metadata": {
  "kernelspec": {
   "display_name": "base",
   "language": "python",
   "name": "python3"
  },
  "language_info": {
   "codemirror_mode": {
    "name": "ipython",
    "version": 3
   },
   "file_extension": ".py",
   "mimetype": "text/x-python",
   "name": "python",
   "nbconvert_exporter": "python",
   "pygments_lexer": "ipython3",
   "version": "3.11.5"
  }
 },
 "nbformat": 4,
 "nbformat_minor": 2
}
